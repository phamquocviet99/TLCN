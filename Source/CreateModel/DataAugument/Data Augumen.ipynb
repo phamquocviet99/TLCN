{
 "cells": [
  {
   "cell_type": "code",
   "execution_count": 1,
   "metadata": {},
   "outputs": [],
   "source": [
    "from PIL import Image\n",
    "import random\n",
    "import os"
   ]
  },
  {
   "cell_type": "code",
   "execution_count": 2,
   "metadata": {},
   "outputs": [],
   "source": [
    "import numpy as np \n",
    "import pandas as pd \n",
    "import os\n",
    "from PIL import Image\n",
    "\n",
    "for dirname, _, filenames in os.walk(r'D:\\ICIAR2018_BACH_Challenge\\Test\\Normal'):\n",
    "    for filename in filenames:\n",
    "        colorImage  = Image.open(os.path.join(dirname, filename))\n",
    "        colorImage1=colorImage\n",
    "        lable=filename.replace(\".tif\",\"\")  \n",
    "        rotated45     = colorImage.rotate(45)\n",
    "        s45 = dirname + '\\\\' +lable +\"1\"+\".tif\"\n",
    "        rotated45.save(s45,\"PNG\")\n",
    "        rotated90 = colorImage.rotate(90)\n",
    "        s90 = dirname + '\\\\' +lable +\"2\"+\".tif\"\n",
    "        rotated90.save(s90,\"PNG\")\n",
    "        rotated135 = colorImage.rotate(135)\n",
    "        s135 = dirname + '\\\\' +lable +\"3\"+\".tif\"\n",
    "        rotated90.save(s135,\"PNG\")\n",
    "        transposed  = colorImage.transpose(Image.FLIP_LEFT_RIGHT)\n",
    "        s = dirname + '\\\\' +lable +\"4\"+\".tif\"\n",
    "        transposed.save(s,\"PNG\")\n",
    "  "
   ]
  },
  {
   "cell_type": "code",
   "execution_count": null,
   "metadata": {},
   "outputs": [],
   "source": []
  }
 ],
 "metadata": {
  "kernelspec": {
   "display_name": "Python 3",
   "language": "python",
   "name": "python3"
  },
  "language_info": {
   "codemirror_mode": {
    "name": "ipython",
    "version": 3
   },
   "file_extension": ".py",
   "mimetype": "text/x-python",
   "name": "python",
   "nbconvert_exporter": "python",
   "pygments_lexer": "ipython3",
   "version": "3.7.1"
  }
 },
 "nbformat": 4,
 "nbformat_minor": 2
}
